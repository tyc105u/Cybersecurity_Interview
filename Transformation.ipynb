{
 "cells": [
  {
   "cell_type": "code",
   "execution_count": 32,
   "id": "06e9aa2b",
   "metadata": {},
   "outputs": [
    {
     "name": "stdout",
     "output_type": "stream",
     "text": [
      "p\n",
      "i\n",
      "c\n",
      "o\n",
      "C\n",
      "T\n",
      "F\n",
      "{\n",
      "1\n",
      "6\n",
      "_\n",
      "b\n",
      "i\n",
      "t\n",
      "s\n",
      "_\n",
      "i\n",
      "n\n",
      "s\n",
      "t\n",
      "3\n",
      "4\n",
      "d\n",
      "_\n",
      "o\n",
      "f\n",
      "_\n",
      "8\n",
      "_\n",
      "0\n",
      "d\n",
      "d\n",
      "c\n",
      "d\n",
      "9\n",
      "7\n",
      "a\n",
      "}\n"
     ]
    }
   ],
   "source": [
    "#reverse engineering\n",
    "flag = \"灩捯䍔䙻ㄶ形楴獟楮獴㌴摟潦弸弰摤捤㤷慽\"\n",
    "\n",
    "#''.join([chr((ord(flag[i]) << 8) + ord(flag[i + 1])) for i in range(0, len(flag), 2)])\n",
    "for i in range(len(flag)):\n",
    "    print(chr(ord(flag[i])>>8)) #original flag[i]\n",
    "    print(chr((ord(flag[i]))-((ord(flag[i])>>8)<<8))) #original flag[i+1]"
   ]
  }
 ],
 "metadata": {
  "kernelspec": {
   "display_name": "Python 3 (ipykernel)",
   "language": "python",
   "name": "python3"
  },
  "language_info": {
   "codemirror_mode": {
    "name": "ipython",
    "version": 3
   },
   "file_extension": ".py",
   "mimetype": "text/x-python",
   "name": "python",
   "nbconvert_exporter": "python",
   "pygments_lexer": "ipython3",
   "version": "3.9.9"
  }
 },
 "nbformat": 4,
 "nbformat_minor": 5
}
